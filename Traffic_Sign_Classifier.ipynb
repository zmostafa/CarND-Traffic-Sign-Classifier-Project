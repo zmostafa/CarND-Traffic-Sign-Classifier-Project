{
  "nbformat": 4,
  "nbformat_minor": 0,
  "metadata": {
    "anaconda-cloud": {},
    "kernelspec": {
      "name": "python3",
      "display_name": "Python 3"
    },
    "language_info": {
      "codemirror_mode": {
        "name": "ipython",
        "version": 3
      },
      "file_extension": ".py",
      "mimetype": "text/x-python",
      "name": "python",
      "nbconvert_exporter": "python",
      "pygments_lexer": "ipython3",
      "version": "3.5.2"
    },
    "colab": {
      "name": "Traffic_Sign_Classifier.ipynb",
      "provenance": [],
      "include_colab_link": true
    }
  },
  "cells": [
    {
      "cell_type": "markdown",
      "metadata": {
        "id": "view-in-github",
        "colab_type": "text"
      },
      "source": [
        "<a href=\"https://colab.research.google.com/github/zmostafa/CarND-Traffic-Sign-Classifier-Project/blob/master/Traffic_Sign_Classifier.ipynb\" target=\"_parent\"><img src=\"https://colab.research.google.com/assets/colab-badge.svg\" alt=\"Open In Colab\"/></a>"
      ]
    },
    {
      "cell_type": "markdown",
      "metadata": {
        "id": "_Cb84685VgHc",
        "colab_type": "text"
      },
      "source": [
        "# Self-Driving Car Engineer Nanodegree\n",
        "\n",
        "## Deep Learning\n",
        "\n",
        "## Project: Build a Traffic Sign Recognition Classifier\n",
        "\n",
        "In this notebook, a template is provided for you to implement your functionality in stages, which is required to successfully complete this project. If additional code is required that cannot be included in the notebook, be sure that the Python code is successfully imported and included in your submission if necessary. \n",
        "\n",
        "> **Note**: Once you have completed all of the code implementations, you need to finalize your work by exporting the iPython Notebook as an HTML document. Before exporting the notebook to html, all of the code cells need to have been run so that reviewers can see the final implementation and output. You can then export the notebook by using the menu above and navigating to  \\n\",\n",
        "    \"**File -> Download as -> HTML (.html)**. Include the finished document along with this notebook as your submission. \n",
        "\n",
        "In addition to implementing code, there is a writeup to complete. The writeup should be completed in a separate file, which can be either a markdown file or a pdf document. There is a [write up template](https://github.com/udacity/CarND-Traffic-Sign-Classifier-Project/blob/master/writeup_template.md) that can be used to guide the writing process. Completing the code template and writeup template will cover all of the [rubric points](https://review.udacity.com/#!/rubrics/481/view) for this project.\n",
        "\n",
        "The [rubric](https://review.udacity.com/#!/rubrics/481/view) contains \"Stand Out Suggestions\" for enhancing the project beyond the minimum requirements. The stand out suggestions are optional. If you decide to pursue the \"stand out suggestions\", you can include the code in this Ipython notebook and also discuss the results in the writeup file.\n",
        "\n",
        "\n",
        ">**Note:** Code and Markdown cells can be executed using the **Shift + Enter** keyboard shortcut. In addition, Markdown cells can be edited by typically double-clicking the cell to enter edit mode."
      ]
    },
    {
      "cell_type": "markdown",
      "metadata": {
        "id": "Lhq0HCCXVgHd",
        "colab_type": "text"
      },
      "source": [
        "---\n",
        "## Step 0: Load The Data"
      ]
    },
    {
      "cell_type": "code",
      "metadata": {
        "id": "crMz4lKVVgHe",
        "colab_type": "code",
        "colab": {
          "base_uri": "https://localhost:8080/",
          "height": 231
        },
        "outputId": "7373b7b1-874a-4607-eaf3-866dd15a5650"
      },
      "source": [
        "# Load pickled data\n",
        "import pickle\n",
        "\n",
        "# TODO: Fill this in based on where you saved the training and testing data\n",
        "\n",
        "training_file = \"train.p\"\n",
        "validation_file= \"valid.p\"\n",
        "testing_file = \"test.p\"\n",
        "\n",
        "with open(training_file, mode='rb') as f:\n",
        "    train = pickle.load(f)\n",
        "with open(validation_file, mode='rb') as f:\n",
        "    valid = pickle.load(f)\n",
        "with open(testing_file, mode='rb') as f:\n",
        "    test = pickle.load(f)\n",
        "    \n",
        "X_train, y_train = train['features'], train['labels']\n",
        "X_valid, y_valid = valid['features'], valid['labels']\n",
        "X_test, y_test = test['features'], test['labels']"
      ],
      "execution_count": 2,
      "outputs": [
        {
          "output_type": "error",
          "ename": "UnpicklingError",
          "evalue": "ignored",
          "traceback": [
            "\u001b[0;31m---------------------------------------------------------------------------\u001b[0m",
            "\u001b[0;31mUnpicklingError\u001b[0m                           Traceback (most recent call last)",
            "\u001b[0;32m<ipython-input-2-4b9ec6813f2e>\u001b[0m in \u001b[0;36m<module>\u001b[0;34m()\u001b[0m\n\u001b[1;32m      8\u001b[0m \u001b[0;34m\u001b[0m\u001b[0m\n\u001b[1;32m      9\u001b[0m \u001b[0;32mwith\u001b[0m \u001b[0mopen\u001b[0m\u001b[0;34m(\u001b[0m\u001b[0mtraining_file\u001b[0m\u001b[0;34m,\u001b[0m \u001b[0mmode\u001b[0m\u001b[0;34m=\u001b[0m\u001b[0;34m'rb'\u001b[0m\u001b[0;34m)\u001b[0m \u001b[0;32mas\u001b[0m \u001b[0mf\u001b[0m\u001b[0;34m:\u001b[0m\u001b[0;34m\u001b[0m\u001b[0;34m\u001b[0m\u001b[0m\n\u001b[0;32m---> 10\u001b[0;31m     \u001b[0mtrain\u001b[0m \u001b[0;34m=\u001b[0m \u001b[0mpickle\u001b[0m\u001b[0;34m.\u001b[0m\u001b[0mload\u001b[0m\u001b[0;34m(\u001b[0m\u001b[0mf\u001b[0m\u001b[0;34m)\u001b[0m\u001b[0;34m\u001b[0m\u001b[0;34m\u001b[0m\u001b[0m\n\u001b[0m\u001b[1;32m     11\u001b[0m \u001b[0;32mwith\u001b[0m \u001b[0mopen\u001b[0m\u001b[0;34m(\u001b[0m\u001b[0mvalidation_file\u001b[0m\u001b[0;34m,\u001b[0m \u001b[0mmode\u001b[0m\u001b[0;34m=\u001b[0m\u001b[0;34m'rb'\u001b[0m\u001b[0;34m)\u001b[0m \u001b[0;32mas\u001b[0m \u001b[0mf\u001b[0m\u001b[0;34m:\u001b[0m\u001b[0;34m\u001b[0m\u001b[0;34m\u001b[0m\u001b[0m\n\u001b[1;32m     12\u001b[0m     \u001b[0mvalid\u001b[0m \u001b[0;34m=\u001b[0m \u001b[0mpickle\u001b[0m\u001b[0;34m.\u001b[0m\u001b[0mload\u001b[0m\u001b[0;34m(\u001b[0m\u001b[0mf\u001b[0m\u001b[0;34m)\u001b[0m\u001b[0;34m\u001b[0m\u001b[0;34m\u001b[0m\u001b[0m\n",
            "\u001b[0;31mUnpicklingError\u001b[0m: pickle data was truncated"
          ]
        }
      ]
    },
    {
      "cell_type": "markdown",
      "metadata": {
        "id": "zLx6vZDyVgHi",
        "colab_type": "text"
      },
      "source": [
        "---\n",
        "\n",
        "## Step 1: Dataset Summary & Exploration\n",
        "\n",
        "The pickled data is a dictionary with 4 key/value pairs:\n",
        "\n",
        "- `'features'` is a 4D array containing raw pixel data of the traffic sign images, (num examples, width, height, channels).\n",
        "- `'labels'` is a 1D array containing the label/class id of the traffic sign. The file `signnames.csv` contains id -> name mappings for each id.\n",
        "- `'sizes'` is a list containing tuples, (width, height) representing the original width and height the image.\n",
        "- `'coords'` is a list containing tuples, (x1, y1, x2, y2) representing coordinates of a bounding box around the sign in the image. **THESE COORDINATES ASSUME THE ORIGINAL IMAGE. THE PICKLED DATA CONTAINS RESIZED VERSIONS (32 by 32) OF THESE IMAGES**\n",
        "\n",
        "Complete the basic data summary below. Use python, numpy and/or pandas methods to calculate the data summary rather than hard coding the results. For example, the [pandas shape method](http://pandas.pydata.org/pandas-docs/stable/generated/pandas.DataFrame.shape.html) might be useful for calculating some of the summary results. "
      ]
    },
    {
      "cell_type": "markdown",
      "metadata": {
        "id": "U6NnhxjAVgHi",
        "colab_type": "text"
      },
      "source": [
        "### Provide a Basic Summary of the Data Set Using Python, Numpy and/or Pandas"
      ]
    },
    {
      "cell_type": "code",
      "metadata": {
        "id": "GOs6i7CIVgHj",
        "colab_type": "code",
        "colab": {
          "base_uri": "https://localhost:8080/",
          "height": 102
        },
        "outputId": "532d6c06-e11e-48c8-c651-6340c2805c23"
      },
      "source": [
        "### Replace each question mark with the appropriate value. \n",
        "### Use python, pandas or numpy methods rather than hard coding the results\n",
        "import pandas as pd\n",
        "import numpy as np\n",
        "\n",
        "# TODO: Number of training examples\n",
        "n_train = len(X_train)\n",
        "\n",
        "# TODO: Number of validation examples\n",
        "n_validation = len(X_valid)\n",
        "\n",
        "# TODO: Number of testing examples.\n",
        "n_test = len(X_test)\n",
        "\n",
        "# TODO: What's the shape of an traffic sign image?\n",
        "image_shape = X_train.shape\n",
        "\n",
        "# TODO: How many unique classes/labels there are in the dataset.\n",
        "n_classes = len(np.unique(y_train))\n",
        "\n",
        "print(\"Number of training examples =\", n_train)\n",
        "print(\"Number of validation examples =\", n_validation)\n",
        "print(\"Number of testing examples =\", n_test)\n",
        "print(\"Image data shape =\", image_shape)\n",
        "print(\"Number of classes =\", n_classes)"
      ],
      "execution_count": 13,
      "outputs": [
        {
          "output_type": "stream",
          "text": [
            "Number of training examples = 34799\n",
            "Number of validation examples = 4410\n",
            "Number of testing examples = 12630\n",
            "Image data shape = (34799, 32, 32, 3)\n",
            "Number of classes = 43\n"
          ],
          "name": "stdout"
        }
      ]
    },
    {
      "cell_type": "markdown",
      "metadata": {
        "id": "IghOTWmOVgHm",
        "colab_type": "text"
      },
      "source": [
        "### Include an exploratory visualization of the dataset"
      ]
    },
    {
      "cell_type": "markdown",
      "metadata": {
        "id": "_h8ITjI-VgHm",
        "colab_type": "text"
      },
      "source": [
        "Visualize the German Traffic Signs Dataset using the pickled file(s). This is open ended, suggestions include: plotting traffic sign images, plotting the count of each sign, etc. \n",
        "\n",
        "The [Matplotlib](http://matplotlib.org/) [examples](http://matplotlib.org/examples/index.html) and [gallery](http://matplotlib.org/gallery.html) pages are a great resource for doing visualizations in Python.\n",
        "\n",
        "**NOTE:** It's recommended you start with something simple first. If you wish to do more, come back to it after you've completed the rest of the sections. It can be interesting to look at the distribution of classes in the training, validation and test set. Is the distribution the same? Are there more examples of some classes than others?"
      ]
    },
    {
      "cell_type": "code",
      "metadata": {
        "id": "YxGKtPorVgHn",
        "colab_type": "code",
        "colab": {
          "base_uri": "https://localhost:8080/",
          "height": 283
        },
        "outputId": "f28e8662-0af7-4631-c70f-e204327985e0"
      },
      "source": [
        "### Data exploration visualization code goes here.\n",
        "### Feel free to use as many code cells as needed.\n",
        "import matplotlib.pyplot as plt\n",
        "# Visualizations will be shown in the notebook.\n",
        "%matplotlib inline\n",
        "plt.imshow(X_train[0])"
      ],
      "execution_count": 4,
      "outputs": [
        {
          "output_type": "execute_result",
          "data": {
            "text/plain": [
              "<matplotlib.image.AxesImage at 0x7fa6d5bcf208>"
            ]
          },
          "metadata": {
            "tags": []
          },
          "execution_count": 4
        },
        {
          "output_type": "display_data",
          "data": {
            "image/png": "[encoded data removed]",
            "text/plain": [
              "<Figure size 432x288 with 1 Axes>"
            ]
          },
          "metadata": {
            "tags": [],
            "needs_background": "light"
          }
        }
      ]
    },
    {
      "cell_type": "markdown",
      "metadata": {
        "id": "Ig-2uQXyVgHq",
        "colab_type": "text"
      },
      "source": [
        "----\n",
        "\n",
        "## Step 2: Design and Test a Model Architecture\n",
        "\n",
        "Design and implement a deep learning model that learns to recognize traffic signs. Train and test your model on the [German Traffic Sign Dataset](http://benchmark.ini.rub.de/?section=gtsrb&subsection=dataset).\n",
        "\n",
        "The LeNet-5 implementation shown in the [classroom](https://classroom.udacity.com/nanodegrees/nd013/parts/fbf77062-5703-404e-b60c-95b78b2f3f9e/modules/6df7ae49-c61c-4bb2-a23e-6527e69209ec/lessons/601ae704-1035-4287-8b11-e2c2716217ad/concepts/d4aca031-508f-4e0b-b493-e7b706120f81) at the end of the CNN lesson is a solid starting point. You'll have to change the number of classes and possibly the preprocessing, but aside from that it's plug and play! \n",
        "\n",
        "With the LeNet-5 solution from the lecture, you should expect a validation set accuracy of about 0.89. To meet specifications, the validation set accuracy will need to be at least 0.93. It is possible to get an even higher accuracy, but 0.93 is the minimum for a successful project submission. \n",
        "\n",
        "There are various aspects to consider when thinking about this problem:\n",
        "\n",
        "- Neural network architecture (is the network over or underfitting?)\n",
        "- Play around preprocessing techniques (normalization, rgb to grayscale, etc)\n",
        "- Number of examples per label (some have more than others).\n",
        "- Generate fake data.\n",
        "\n",
        "Here is an example of a [published baseline model on this problem](http://yann.lecun.com/exdb/publis/pdf/sermanet-ijcnn-11.pdf). It's not required to be familiar with the approach used in the paper but, it's good practice to try to read papers like these."
      ]
    },
    {
      "cell_type": "markdown",
      "metadata": {
        "id": "DWy__pm8VgHr",
        "colab_type": "text"
      },
      "source": [
        "### Pre-process the Data Set (normalization, grayscale, etc.)"
      ]
    },
    {
      "cell_type": "markdown",
      "metadata": {
        "id": "lhDkA2-uVgHr",
        "colab_type": "text"
      },
      "source": [
        "Minimally, the image data should be normalized so that the data has mean zero and equal variance. For image data, `(pixel - 128)/ 128` is a quick way to approximately normalize the data and can be used in this project. \n",
        "\n",
        "Other pre-processing steps are optional. You can try different techniques to see if it improves performance. \n",
        "\n",
        "Use the code cell (or multiple code cells, if necessary) to implement the first step of your project."
      ]
    },
    {
      "cell_type": "code",
      "metadata": {
        "id": "VlKT_tZcVgHs",
        "colab_type": "code",
        "colab": {
          "base_uri": "https://localhost:8080/",
          "height": 850
        },
        "outputId": "940e66c7-bbef-4ffc-bf5c-1d4ad4400b6c"
      },
      "source": [
        "### Preprocess the data here. It is required to normalize the data. Other preprocessing steps could include \n",
        "### converting to grayscale, etc.\n",
        "### Feel free to use as many code cells as needed.\n",
        "import cv2\n",
        "cv2.normalize\n",
        "print(X_train[5])\n",
        "# for i in range(n_train):\n",
        "  # img = cv2.imread(X_train[i])\n",
        "  # X_train[i] = cv2.resize(X_train[i], (32,32))\n",
        "  # print(X_train[i].shape)\n"
      ],
      "execution_count": 5,
      "outputs": [
        {
          "output_type": "stream",
          "text": [
            "[[[30 26 24]\n",
            "  [30 26 23]\n",
            "  [31 26 24]\n",
            "  ...\n",
            "  [34 29 27]\n",
            "  [36 29 27]\n",
            "  [36 29 27]]\n",
            "\n",
            " [[30 26 23]\n",
            "  [29 26 22]\n",
            "  [29 26 23]\n",
            "  ...\n",
            "  [33 28 26]\n",
            "  [35 29 27]\n",
            "  [35 29 27]]\n",
            "\n",
            " [[29 25 23]\n",
            "  [29 26 23]\n",
            "  [28 26 24]\n",
            "  ...\n",
            "  [33 27 25]\n",
            "  [34 28 26]\n",
            "  [34 29 27]]\n",
            "\n",
            " ...\n",
            "\n",
            " [[29 26 24]\n",
            "  [29 25 23]\n",
            "  [30 26 23]\n",
            "  ...\n",
            "  [26 23 21]\n",
            "  [26 23 21]\n",
            "  [26 23 21]]\n",
            "\n",
            " [[27 25 23]\n",
            "  [28 25 23]\n",
            "  [29 25 22]\n",
            "  ...\n",
            "  [27 24 21]\n",
            "  [26 23 21]\n",
            "  [27 24 22]]\n",
            "\n",
            " [[26 23 21]\n",
            "  [27 24 22]\n",
            "  [27 24 21]\n",
            "  ...\n",
            "  [26 23 19]\n",
            "  [27 24 21]\n",
            "  [25 23 20]]]\n"
          ],
          "name": "stdout"
        }
      ]
    },
    {
      "cell_type": "markdown",
      "metadata": {
        "id": "j2a5Rbq5VgHv",
        "colab_type": "text"
      },
      "source": [
        "### Model Architecture"
      ]
    },
    {
      "cell_type": "code",
      "metadata": {
        "id": "4JaM_STSVgHv",
        "colab_type": "code",
        "colab": {
          "base_uri": "https://localhost:8080/",
          "height": 367
        },
        "outputId": "b41e32d6-4021-4978-c322-85fce0c0583b"
      },
      "source": [
        "### Define your architecture here.\n",
        "### Feel free to use as many code cells as needed.\n",
        "\n",
        "%tensorflow_version 1.x\n",
        "import tensorflow as tf\n",
        "from tensorflow.contrib.layers import flatten\n",
        "\n",
        "EPOCHS = 10\n",
        "BATCH_SIZE = 128\n",
        "\n",
        "def LeNet(x):    \n",
        "    # Arguments used for tf.truncated_normal, randomly defines variables for the weights and biases for each layer\n",
        "    mu = 0\n",
        "    sigma = 0.1\n",
        "    weights = {\n",
        "    # 28x28 conv, 3 input, 6 outputs\n",
        "    'wconv1': tf.Variable(tf.truncated_normal([5,5,3,6], mean = mu , stddev = sigma)),\n",
        "    # 10x10 conv, 6 inputs, 16 outputs\n",
        "    'wconv2': tf.Variable(tf.truncated_normal([5, 5, 6, 16], mean = mu , stddev = sigma)),\n",
        "    # fully connected, 400 inputs, 120 outputs\n",
        "    'wfc1': tf.Variable(tf.truncated_normal([400,120], mean = mu , stddev = sigma)),\n",
        "    # 120 inputs, 84 outputs (class prediction)\n",
        "    'wfc2': tf.Variable(tf.truncated_normal([120, 84], mean = mu , stddev = sigma)),\n",
        "    # 84 inputs, 43 outputs (class prediction)\n",
        "    'wlogits': tf.Variable(tf.truncated_normal([84, 43], mean = mu , stddev = sigma))\n",
        "    }\n",
        "\n",
        "    biases = {\n",
        "        'bconv1': tf.Variable(tf.zeros([6])),\n",
        "        'bconv2': tf.Variable(tf.zeros([16])),\n",
        "        'bfc1': tf.Variable(tf.zeros([120])),\n",
        "        'bfc2': tf.Variable(tf.zeros([84])),\n",
        "        'blogits': tf.Variable(tf.zeros([43]))\n",
        "    }\n",
        "    print(\"Start LeNet .... \")\n",
        "    # TODO: Layer 1: Convolutional. Input = 32x32x3. Output = 28x28x6.\n",
        "    conv1 = tf.nn.conv2d(x,weights['wconv1'] ,[1,1,1,1] , padding='VALID')\n",
        "    conv1 = tf.nn.bias_add(conv1, biases['bconv1'])    \n",
        "    # TODO: Activation.\n",
        "    conv1 = tf.nn.relu(conv1)\n",
        "    # TODO: Pooling. Input = 28x28x6. Output = 14x14x6.\n",
        "    # conv1 = tf.nn.max_pool(conv1,[1,3,3,1] ,[1,2,2,1] , padding='SAME')\n",
        "    conv1 = tf.nn.max_pool(conv1,[1,2,2,1] ,[1,2,2,1] , padding='VALID')\n",
        "    # TODO: Layer 2: Convolutional. Output = 10x10x16.\n",
        "    conv2 = tf.nn.conv2d(conv1,weights['wconv2'] ,[1,1,1,1], padding='VALID')\n",
        "    conv2 = tf.nn.bias_add(conv2,biases['bconv2'])\n",
        "    # TODO: Activation.\n",
        "    conv2 = tf.nn.relu(conv2)\n",
        "    # TODO: Pooling. Input = 10x10x16. Output = 5x5x16.\n",
        "    conv2 = tf.nn.max_pool(conv2,[1,2,2,1] ,[1,2,2,1] , padding='VALID')\n",
        "    # TODO: Flatten. Input = 5x5x16. Output = 400.\n",
        "    conv2 = tf.contrib.layers.flatten(conv2)\n",
        "    # TODO: Layer 3: Fully Connected. Input = 400. Output = 120.\n",
        "    fc1 = tf.add(tf.matmul(conv2 , weights['wfc1'] ), biases['bfc1'])\n",
        "    # TODO: Activation.\n",
        "    # softmax() gave low accuracy ??!!\n",
        "    fc1 = tf.nn.relu(fc1)\n",
        "    # TODO: Layer 4: Fully Connected. Input = 120. Output = 84.\n",
        "    fc2 = tf.add(tf.matmul(fc1, weights['wfc2'] ), biases['bfc2'])\n",
        "    # TODO: Activation.\n",
        "    fc2 = tf.nn.relu(fc2)\n",
        "    # Apply Dropout\n",
        "    # fc2 = tf.nn.dropout(fc2, dropout)\n",
        "    # TODO: Layer 5: Fully Connected. Input = 84. Output = 43.\n",
        "    logits = tf.add(tf.matmul(fc2, weights['wlogits'] ), biases['blogits'])\n",
        "    \n",
        "    return logits"
      ],
      "execution_count": 15,
      "outputs": [
        {
          "output_type": "error",
          "ename": "ModuleNotFoundError",
          "evalue": "ignored",
          "traceback": [
            "\u001b[0;31m---------------------------------------------------------------------------\u001b[0m",
            "\u001b[0;31mModuleNotFoundError\u001b[0m                       Traceback (most recent call last)",
            "\u001b[0;32m<ipython-input-15-eddd2fbf7ed8>\u001b[0m in \u001b[0;36m<module>\u001b[0;34m()\u001b[0m\n\u001b[1;32m      1\u001b[0m \u001b[0;32mimport\u001b[0m \u001b[0mtensorflow\u001b[0m \u001b[0;32mas\u001b[0m \u001b[0mtf\u001b[0m\u001b[0;34m\u001b[0m\u001b[0;34m\u001b[0m\u001b[0m\n\u001b[0;32m----> 2\u001b[0;31m \u001b[0;32mfrom\u001b[0m \u001b[0mtensorflow\u001b[0m\u001b[0;34m.\u001b[0m\u001b[0mcontrib\u001b[0m\u001b[0;34m.\u001b[0m\u001b[0mlayers\u001b[0m \u001b[0;32mimport\u001b[0m \u001b[0mflatten\u001b[0m\u001b[0;34m\u001b[0m\u001b[0;34m\u001b[0m\u001b[0m\n\u001b[0m\u001b[1;32m      3\u001b[0m \u001b[0;34m\u001b[0m\u001b[0m\n\u001b[1;32m      4\u001b[0m \u001b[0mEPOCHS\u001b[0m \u001b[0;34m=\u001b[0m \u001b[0;36m10\u001b[0m\u001b[0;34m\u001b[0m\u001b[0;34m\u001b[0m\u001b[0m\n\u001b[1;32m      5\u001b[0m \u001b[0mBATCH_SIZE\u001b[0m \u001b[0;34m=\u001b[0m \u001b[0;36m128\u001b[0m\u001b[0;34m\u001b[0m\u001b[0;34m\u001b[0m\u001b[0m\n",
            "\u001b[0;31mModuleNotFoundError\u001b[0m: No module named 'tensorflow.contrib'",
            "",
            "\u001b[0;31m---------------------------------------------------------------------------\u001b[0;32m\nNOTE: If your import is failing due to a missing package, you can\nmanually install dependencies using either !pip or !apt.\n\nTo view examples of installing some common dependencies, click the\n\"Open Examples\" button below.\n\u001b[0;31m---------------------------------------------------------------------------\u001b[0m\n"
          ]
        }
      ]
    },
    {
      "cell_type": "markdown",
      "metadata": {
        "id": "tSUhRfIsVgHz",
        "colab_type": "text"
      },
      "source": [
        "### Train, Validate and Test the Model"
      ]
    },
    {
      "cell_type": "markdown",
      "metadata": {
        "id": "OuzOO4U_VgHz",
        "colab_type": "text"
      },
      "source": [
        "A validation set can be used to assess how well the model is performing. A low accuracy on the training and validation\n",
        "sets imply underfitting. A high accuracy on the training set but low accuracy on the validation set implies overfitting."
      ]
    },
    {
      "cell_type": "code",
      "metadata": {
        "id": "Ao2-BgyRVgH0",
        "colab_type": "code",
        "colab": {}
      },
      "source": [
        "### Train your model here.\n",
        "### Calculate and report the accuracy on the training and validation set.\n",
        "### Once a final model architecture is selected, \n",
        "### the accuracy on the test set should be calculated and reported as well.\n",
        "### Feel free to use as many code cells as needed.\n",
        "\n",
        "x = tf.placeholder(tf.float32, (None, 32, 32, 3))\n",
        "y = tf.placeholder(tf.int32, (None))\n",
        "one_hot_y = tf.one_hot(y, 10)\n",
        "\n",
        "rate = 0.001\n",
        "\n",
        "logits = LeNet(x)\n",
        "cross_entropy = tf.nn.softmax_cross_entropy_with_logits(labels=one_hot_y, logits=logits)\n",
        "loss_operation = tf.reduce_mean(cross_entropy)\n",
        "optimizer = tf.train.AdamOptimizer(learning_rate = rate)\n",
        "training_operation = optimizer.minimize(loss_operation)\n",
        "\n",
        "correct_prediction = tf.equal(tf.argmax(logits, 1), tf.argmax(one_hot_y, 1))\n",
        "accuracy_operation = tf.reduce_mean(tf.cast(correct_prediction, tf.float32))\n",
        "saver = tf.train.Saver()\n",
        "\n",
        "def evaluate(X_data, y_data):\n",
        "    num_examples = len(X_data)\n",
        "    total_accuracy = 0\n",
        "    sess = tf.get_default_session()\n",
        "    for offset in range(0, num_examples, BATCH_SIZE):\n",
        "        batch_x, batch_y = X_data[offset:offset+BATCH_SIZE], y_data[offset:offset+BATCH_SIZE]\n",
        "        accuracy = sess.run(accuracy_operation, feed_dict={x: batch_x, y: batch_y})\n",
        "        total_accuracy += (accuracy * len(batch_x))\n",
        "    return total_accuracy / num_examples"
      ],
      "execution_count": 0,
      "outputs": []
    },
    {
      "cell_type": "code",
      "metadata": {
        "id": "4no1HHsKesF0",
        "colab_type": "code",
        "colab": {}
      },
      "source": [
        "with tf.Session() as sess:\n",
        "    sess.run(tf.global_variables_initializer())\n",
        "    num_examples = len(X_train)\n",
        "    \n",
        "    print(\"Training...\")\n",
        "    print()\n",
        "    for i in range(EPOCHS):\n",
        "        X_train, y_train = shuffle(X_train, y_train)\n",
        "        for offset in range(0, num_examples, BATCH_SIZE):\n",
        "            end = offset + BATCH_SIZE\n",
        "            batch_x, batch_y = X_train[offset:end], y_train[offset:end]\n",
        "            sess.run(training_operation, feed_dict={x: batch_x, y: batch_y})\n",
        "            \n",
        "        validation_accuracy = evaluate(X_validation, y_validation)\n",
        "        print(\"EPOCH {} ...\".format(i+1))\n",
        "        # print(\"Validation Loss = {:.3f}\".format(loss_operation))\n",
        "        print(\"Validation Accuracy = {:.3f}\".format(validation_accuracy))\n",
        "        print()\n",
        "        \n",
        "    saver.save(sess, './lenet')\n",
        "    print(\"Model saved\")\n"
      ],
      "execution_count": 0,
      "outputs": []
    },
    {
      "cell_type": "markdown",
      "metadata": {
        "id": "OafqHMlgVgH2",
        "colab_type": "text"
      },
      "source": [
        "---\n",
        "\n",
        "## Step 3: Test a Model on New Images\n",
        "\n",
        "To give yourself more insight into how your model is working, download at least five pictures of German traffic signs from the web and use your model to predict the traffic sign type.\n",
        "\n",
        "You may find `signnames.csv` useful as it contains mappings from the class id (integer) to the actual sign name."
      ]
    },
    {
      "cell_type": "markdown",
      "metadata": {
        "id": "8pnuE8XhVgH3",
        "colab_type": "text"
      },
      "source": [
        "### Load and Output the Images"
      ]
    },
    {
      "cell_type": "code",
      "metadata": {
        "id": "ESsebrWVVgH4",
        "colab_type": "code",
        "colab": {}
      },
      "source": [
        "### Load the images and plot them here.\n",
        "### Feel free to use as many code cells as needed."
      ],
      "execution_count": 0,
      "outputs": []
    },
    {
      "cell_type": "markdown",
      "metadata": {
        "id": "aCQdXtEKVgH7",
        "colab_type": "text"
      },
      "source": [
        "### Predict the Sign Type for Each Image"
      ]
    },
    {
      "cell_type": "code",
      "metadata": {
        "id": "kOw1dznpVgH8",
        "colab_type": "code",
        "colab": {}
      },
      "source": [
        "### Run the predictions here and use the model to output the prediction for each image.\n",
        "### Make sure to pre-process the images with the same pre-processing pipeline used earlier.\n",
        "### Feel free to use as many code cells as needed.\n",
        "with tf.Session() as sess:\n",
        "    saver.restore(sess, tf.train.latest_checkpoint('.'))\n",
        "\n",
        "    test_accuracy = evaluate(X_test, y_test)\n",
        "    print(\"Test Accuracy = {:.3f}\".format(test_accuracy))"
      ],
      "execution_count": 0,
      "outputs": []
    },
    {
      "cell_type": "markdown",
      "metadata": {
        "id": "loQ1Q4xYVgIC",
        "colab_type": "text"
      },
      "source": [
        "### Analyze Performance"
      ]
    },
    {
      "cell_type": "code",
      "metadata": {
        "id": "yzFd-V66VgIC",
        "colab_type": "code",
        "colab": {}
      },
      "source": [
        "### Calculate the accuracy for these 5 new images. \n",
        "### For example, if the model predicted 1 out of 5 signs correctly, it's 20% accurate on these new images."
      ],
      "execution_count": 0,
      "outputs": []
    },
    {
      "cell_type": "markdown",
      "metadata": {
        "id": "Pmj4nnIfVgIF",
        "colab_type": "text"
      },
      "source": [
        "### Output Top 5 Softmax Probabilities For Each Image Found on the Web"
      ]
    },
    {
      "cell_type": "markdown",
      "metadata": {
        "id": "_IzzNHhFVgIF",
        "colab_type": "text"
      },
      "source": [
        "For each of the new images, print out the model's softmax probabilities to show the **certainty** of the model's predictions (limit the output to the top 5 probabilities for each image). [`tf.nn.top_k`](https://www.tensorflow.org/versions/r0.12/api_docs/python/nn.html#top_k) could prove helpful here. \n",
        "\n",
        "The example below demonstrates how tf.nn.top_k can be used to find the top k predictions for each image.\n",
        "\n",
        "`tf.nn.top_k` will return the values and indices (class ids) of the top k predictions. So if k=3, for each sign, it'll return the 3 largest probabilities (out of a possible 43) and the correspoding class ids.\n",
        "\n",
        "Take this numpy array as an example. The values in the array represent predictions. The array contains softmax probabilities for five candidate images with six possible classes. `tf.nn.top_k` is used to choose the three classes with the highest probability:\n",
        "\n",
        "```\n",
        "# (5, 6) array\n",
        "a = np.array([[ 0.24879643,  0.07032244,  0.12641572,  0.34763842,  0.07893497,\n",
        "         0.12789202],\n",
        "       [ 0.28086119,  0.27569815,  0.08594638,  0.0178669 ,  0.18063401,\n",
        "         0.15899337],\n",
        "       [ 0.26076848,  0.23664738,  0.08020603,  0.07001922,  0.1134371 ,\n",
        "         0.23892179],\n",
        "       [ 0.11943333,  0.29198961,  0.02605103,  0.26234032,  0.1351348 ,\n",
        "         0.16505091],\n",
        "       [ 0.09561176,  0.34396535,  0.0643941 ,  0.16240774,  0.24206137,\n",
        "         0.09155967]])\n",
        "```\n",
        "\n",
        "Running it through `sess.run(tf.nn.top_k(tf.constant(a), k=3))` produces:\n",
        "\n",
        "```\n",
        "TopKV2(values=array([[ 0.34763842,  0.24879643,  0.12789202],\n",
        "       [ 0.28086119,  0.27569815,  0.18063401],\n",
        "       [ 0.26076848,  0.23892179,  0.23664738],\n",
        "       [ 0.29198961,  0.26234032,  0.16505091],\n",
        "       [ 0.34396535,  0.24206137,  0.16240774]]), indices=array([[3, 0, 5],\n",
        "       [0, 1, 4],\n",
        "       [0, 5, 1],\n",
        "       [1, 3, 5],\n",
        "       [1, 4, 3]], dtype=int32))\n",
        "```\n",
        "\n",
        "Looking just at the first row we get `[ 0.34763842,  0.24879643,  0.12789202]`, you can confirm these are the 3 largest probabilities in `a`. You'll also notice `[3, 0, 5]` are the corresponding indices."
      ]
    },
    {
      "cell_type": "code",
      "metadata": {
        "id": "W8iR4YqxVgIG",
        "colab_type": "code",
        "colab": {}
      },
      "source": [
        "### Print out the top five softmax probabilities for the predictions on the German traffic sign images found on the web. \n",
        "### Feel free to use as many code cells as needed."
      ],
      "execution_count": 0,
      "outputs": []
    },
    {
      "cell_type": "markdown",
      "metadata": {
        "id": "_44YRkqAVgIJ",
        "colab_type": "text"
      },
      "source": [
        "### Project Writeup\n",
        "\n",
        "Once you have completed the code implementation, document your results in a project writeup using this [template](https://github.com/udacity/CarND-Traffic-Sign-Classifier-Project/blob/master/writeup_template.md) as a guide. The writeup can be in a markdown or pdf file. "
      ]
    },
    {
      "cell_type": "markdown",
      "metadata": {
        "id": "3UPM-HQTVgIM",
        "colab_type": "text"
      },
      "source": [
        "> **Note**: Once you have completed all of the code implementations and successfully answered each question above, you may finalize your work by exporting the iPython Notebook as an HTML document. You can do this by using the menu above and navigating to  \\n\",\n",
        "    \"**File -> Download as -> HTML (.html)**. Include the finished document along with this notebook as your submission."
      ]
    },
    {
      "cell_type": "markdown",
      "metadata": {
        "id": "1Yx12wDrVgIN",
        "colab_type": "text"
      },
      "source": [
        "---\n",
        "\n",
        "## Step 4 (Optional): Visualize the Neural Network's State with Test Images\n",
        "\n",
        " This Section is not required to complete but acts as an additional excersise for understaning the output of a neural network's weights. While neural networks can be a great learning device they are often referred to as a black box. We can understand what the weights of a neural network look like better by plotting their feature maps. After successfully training your neural network you can see what it's feature maps look like by plotting the output of the network's weight layers in response to a test stimuli image. From these plotted feature maps, it's possible to see what characteristics of an image the network finds interesting. For a sign, maybe the inner network feature maps react with high activation to the sign's boundary outline or to the contrast in the sign's painted symbol.\n",
        "\n",
        " Provided for you below is the function code that allows you to get the visualization output of any tensorflow weight layer you want. The inputs to the function should be a stimuli image, one used during training or a new one you provided, and then the tensorflow variable name that represents the layer's state during the training process, for instance if you wanted to see what the [LeNet lab's](https://classroom.udacity.com/nanodegrees/nd013/parts/fbf77062-5703-404e-b60c-95b78b2f3f9e/modules/6df7ae49-c61c-4bb2-a23e-6527e69209ec/lessons/601ae704-1035-4287-8b11-e2c2716217ad/concepts/d4aca031-508f-4e0b-b493-e7b706120f81) feature maps looked like for it's second convolutional layer you could enter conv2 as the tf_activation variable.\n",
        "\n",
        "For an example of what feature map outputs look like, check out NVIDIA's results in their paper [End-to-End Deep Learning for Self-Driving Cars](https://devblogs.nvidia.com/parallelforall/deep-learning-self-driving-cars/) in the section Visualization of internal CNN State. NVIDIA was able to show that their network's inner weights had high activations to road boundary lines by comparing feature maps from an image with a clear path to one without. Try experimenting with a similar test to show that your trained network's weights are looking for interesting features, whether it's looking at differences in feature maps from images with or without a sign, or even what feature maps look like in a trained network vs a completely untrained one on the same sign image.\n",
        "\n",
        "<figure>\n",
        " <img src=\"https://github.com/zmostafa/CarND-Traffic-Sign-Classifier-Project/blob/master/visualize_cnn.png?raw=1\" width=\"380\" alt=\"Combined Image\" />\n",
        " <figcaption>\n",
        " <p></p> \n",
        " <p style=\"text-align: center;\"> Your output should look something like this (above)</p> \n",
        " </figcaption>\n",
        "</figure>\n",
        " <p></p> \n"
      ]
    },
    {
      "cell_type": "code",
      "metadata": {
        "id": "wFBTDU3rVgIN",
        "colab_type": "code",
        "colab": {}
      },
      "source": [
        "### Visualize your network's feature maps here.\n",
        "### Feel free to use as many code cells as needed.\n",
        "\n",
        "# image_input: the test image being fed into the network to produce the feature maps\n",
        "# tf_activation: should be a tf variable name used during your training procedure that represents the calculated state of a specific weight layer\n",
        "# activation_min/max: can be used to view the activation contrast in more detail, by default matplot sets min and max to the actual min and max values of the output\n",
        "# plt_num: used to plot out multiple different weight feature map sets on the same block, just extend the plt number for each new feature map entry\n",
        "\n",
        "def outputFeatureMap(image_input, tf_activation, activation_min=-1, activation_max=-1 ,plt_num=1):\n",
        "    # Here make sure to preprocess your image_input in a way your network expects\n",
        "    # with size, normalization, ect if needed\n",
        "    # image_input =\n",
        "    # Note: x should be the same name as your network's tensorflow data placeholder variable\n",
        "    # If you get an error tf_activation is not defined it may be having trouble accessing the variable from inside a function\n",
        "    activation = tf_activation.eval(session=sess,feed_dict={x : image_input})\n",
        "    featuremaps = activation.shape[3]\n",
        "    plt.figure(plt_num, figsize=(15,15))\n",
        "    for featuremap in range(featuremaps):\n",
        "        plt.subplot(6,8, featuremap+1) # sets the number of feature maps to show on each row and column\n",
        "        plt.title('FeatureMap ' + str(featuremap)) # displays the feature map number\n",
        "        if activation_min != -1 & activation_max != -1:\n",
        "            plt.imshow(activation[0,:,:, featuremap], interpolation=\"nearest\", vmin =activation_min, vmax=activation_max, cmap=\"gray\")\n",
        "        elif activation_max != -1:\n",
        "            plt.imshow(activation[0,:,:, featuremap], interpolation=\"nearest\", vmax=activation_max, cmap=\"gray\")\n",
        "        elif activation_min !=-1:\n",
        "            plt.imshow(activation[0,:,:, featuremap], interpolation=\"nearest\", vmin=activation_min, cmap=\"gray\")\n",
        "        else:\n",
        "            plt.imshow(activation[0,:,:, featuremap], interpolation=\"nearest\", cmap=\"gray\")"
      ],
      "execution_count": 0,
      "outputs": []
    }
  ]
}