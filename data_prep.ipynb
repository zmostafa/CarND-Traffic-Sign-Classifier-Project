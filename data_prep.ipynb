{
  "nbformat": 4,
  "nbformat_minor": 0,
  "metadata": {
    "colab": {
      "name": "Untitled1.ipynb",
      "provenance": [],
      "authorship_tag": "ABX9TyP0EEnwcXLHlviHKQjhgWMv",
      "include_colab_link": true
    },
    "kernelspec": {
      "name": "python3",
      "display_name": "Python 3"
    }
  },
  "cells": [
    {
      "cell_type": "markdown",
      "metadata": {
        "id": "view-in-github",
        "colab_type": "text"
      },
      "source": [
        "<a href=\"https://colab.research.google.com/github/zmostafa/CarND-Traffic-Sign-Classifier-Project/blob/master/data_prep.ipynb\" target=\"_parent\"><img src=\"https://colab.research.google.com/assets/colab-badge.svg\" alt=\"Open In Colab\"/></a>"
      ]
    },
    {
      "cell_type": "code",
      "metadata": {
        "id": "tYZA_FFnaKBw",
        "colab_type": "code",
        "colab": {}
      },
      "source": [
        "# To support both python 2 and python 3\n",
        "from __future__ import division, print_function, unicode_literals\n",
        "\n",
        "# Common imports\n",
        "import numpy as np\n",
        "import os\n",
        "\n",
        "# to make this notebook's output stable across runs\n",
        "np.random.seed(42)\n",
        "\n",
        "# To plot pretty figures\n",
        "%matplotlib inline\n",
        "import matplotlib as mpl\n",
        "import matplotlib.pyplot as plt\n",
        "mpl.rc('axes', labelsize=14)\n",
        "mpl.rc('xtick', labelsize=12)\n",
        "mpl.rc('ytick', labelsize=12)\n",
        "\n",
        "# Where to save the figures\n",
        "PROJECT_ROOT_DIR = \".\"\n",
        "CHAPTER_ID = \"end_to_end_project\"\n",
        "IMAGES_PATH = os.path.join(PROJECT_ROOT_DIR, \"images\", CHAPTER_ID)\n",
        "\n",
        "def save_fig(fig_id, tight_layout=True, fig_extension=\"png\", resolution=300):\n",
        "    path = os.path.join(IMAGES_PATH, fig_id + \".\" + fig_extension)\n",
        "    print(\"Saving figure\", fig_id)\n",
        "    if tight_layout:\n",
        "        plt.tight_layout()\n",
        "    plt.savefig(path, format=fig_extension, dpi=resolution)\n",
        "\n",
        "# Ignore useless warnings (see SciPy issue #5998)\n",
        "import warnings\n",
        "warnings.filterwarnings(action=\"ignore\", message=\"^internal gelsd\")"
      ],
      "execution_count": 0,
      "outputs": []
    },
    {
      "cell_type": "code",
      "metadata": {
        "id": "FZ6HAytpU1GT",
        "colab_type": "code",
        "colab": {}
      },
      "source": [
        "import os\n",
        "import shutil\n",
        "from six.moves import urllib\n",
        "\n",
        "DATASET_URL = \"https://sid.erda.dk/public/archives/daaeac0d7ce1152aea9b61d9f1e19370/GTSRB-Training_fixed.zip\"\n",
        "DATASET_PATH = os.path.join(\"datasets\", \"training-set\")\n",
        "DATASET_TEST_URL = \"https://sid.erda.dk/public/archives/daaeac0d7ce1152aea9b61d9f1e19370/GTSRB_Final_Test_Images.zip\"\n",
        "DATASET_TEST_PATH = os.path.join(\"datasets\" ,\"testing-set\")\n",
        "\n",
        "def fetch_dataset(dataset_url=None, saving_path=None):\n",
        "    '''\n",
        "      A General Function for downloading and extracting datasets,the function\n",
        "      uses shutil.unpackarchive() for doing the extracion.\n",
        "      dataset_url : url to the dataset\n",
        "      savingpath : where the data set packge will be stored and exctracted\n",
        "    '''\n",
        "    os.makedirs(saving_path, exist_ok=True)\n",
        "    tgz_path = os.path.join(saving_path, \"dataset.zip\")\n",
        "    urllib.request.urlretrieve(dataset_url, tgz_path)\n",
        "    shutil.unpack_archive(tgz_path, extract_dir=saving_path)\n",
        "    # dataset_tgz.close()"
      ],
      "execution_count": 0,
      "outputs": []
    },
    {
      "cell_type": "code",
      "metadata": {
        "id": "zpCP6HM7Y-wq",
        "colab_type": "code",
        "colab": {}
      },
      "source": [
        "fetch_dataset(DATASET_URL,DATASET_PATH)\n",
        "fetch_dataset(DATASET_TEST_URL,DATASET_TEST_PATH)"
      ],
      "execution_count": 0,
      "outputs": []
    },
    {
      "cell_type": "code",
      "metadata": {
        "id": "JCPUJt2Tneue",
        "colab_type": "code",
        "colab": {}
      },
      "source": [
        "# example:\n",
        "#            \n",
        "# trainImages, trainLabels = readTrafficSigns('GTSRB/Training')\n",
        "# print len(trainLabels), len(trainImages)\n",
        "# plt.imshow(trainImages[42])\n",
        "# plt.show()\n",
        "#\n",
        "# have fun, Christian\n",
        "\n",
        "import matplotlib.pyplot as plt\n",
        "import csv\n",
        "\n",
        "# function for reading the images\n",
        "# arguments: path to the traffic sign data, for example './GTSRB/Training'\n",
        "# returns: list of images, list of corresponding labels \n",
        "def readTrafficSigns(rootpath):\n",
        "    '''Reads traffic sign data for German Traffic Sign Recognition Benchmark.\n",
        "\n",
        "    Arguments: path to the traffic sign data, for example './GTSRB/Training'\n",
        "    Returns:   list of images, list of corresponding labels'''\n",
        "    # images = [] # images\n",
        "    # labels = [] # corresponding labels\n",
        "    # dataset = []\n",
        "    all_filenames = []\n",
        "    # loop over all 42 classes\n",
        "    for c in range(0,43):\n",
        "        prefix = rootpath + '/' + format(c, '05d') + '/' # subdirectory for class\n",
        "        gtFile = open(prefix + 'GT-'+ format(c, '05d') + '.csv') # annotations file\n",
        "        print(gtFile)\n",
        "        all_filenames.append(gtFile)\n",
        "        # gtReader = csv.reader(gtFile, delimiter=';') # csv parser for annotations file\n",
        "        # gtReader.__next__() # skip header\n",
        "        # loop over all images in current annotations file\n",
        "        # for row in gtReader:\n",
        "        #     images.append(plt.imread(prefix + row[0])) # the 1th column is the filename\n",
        "        #     labels.append(row[7]) # the 8th column is the label\n",
        "        # gtFile.close()\n",
        "    print(all_filenames)\n",
        "    df_merged   = pd.concat([pd.read_csv(f) for f in all_filenames], ignore_index=True) \n",
        "    df_merged.to_csv(  rootpath + '/' + \"merged.csv\")\n",
        "\n",
        "    # return images, labels"
      ],
      "execution_count": 0,
      "outputs": []
    },
    {
      "cell_type": "code",
      "metadata": {
        "id": "HKjZWcamox4h",
        "colab_type": "code",
        "outputId": "ff0ada23-9062-4fd8-c7a3-aa44c0468426",
        "colab": {
          "base_uri": "https://localhost:8080/",
          "height": 785
        }
      },
      "source": [
        "import pandas as pd\n",
        "from sklearn.model_selection import train_test_split\n",
        "readTrafficSigns('datasets/training-set/GTSRB/Training')\n",
        "# trainImages, trainLabels = readTrafficSigns('datasets/training-set/GTSRB/Training')\n",
        "# train_set, Val_set = train_test_split(readTrafficSigns('datasets/training-set/GTSRB/Training'), test_size=0.2, random_state=42)\n",
        "# testImages, testLabels = readTrafficSigns('datasets/testing-set/GTSRB/Final_Test')"
      ],
      "execution_count": 0,
      "outputs": [
        {
          "output_type": "stream",
          "text": [
            "<_io.TextIOWrapper name='datasets/training-set/GTSRB/Training/00000/GT-00000.csv' mode='r' encoding='UTF-8'>\n",
            "<_io.TextIOWrapper name='datasets/training-set/GTSRB/Training/00001/GT-00001.csv' mode='r' encoding='UTF-8'>\n",
            "<_io.TextIOWrapper name='datasets/training-set/GTSRB/Training/00002/GT-00002.csv' mode='r' encoding='UTF-8'>\n",
            "<_io.TextIOWrapper name='datasets/training-set/GTSRB/Training/00003/GT-00003.csv' mode='r' encoding='UTF-8'>\n",
            "<_io.TextIOWrapper name='datasets/training-set/GTSRB/Training/00004/GT-00004.csv' mode='r' encoding='UTF-8'>\n",
            "<_io.TextIOWrapper name='datasets/training-set/GTSRB/Training/00005/GT-00005.csv' mode='r' encoding='UTF-8'>\n",
            "<_io.TextIOWrapper name='datasets/training-set/GTSRB/Training/00006/GT-00006.csv' mode='r' encoding='UTF-8'>\n",
            "<_io.TextIOWrapper name='datasets/training-set/GTSRB/Training/00007/GT-00007.csv' mode='r' encoding='UTF-8'>\n",
            "<_io.TextIOWrapper name='datasets/training-set/GTSRB/Training/00008/GT-00008.csv' mode='r' encoding='UTF-8'>\n",
            "<_io.TextIOWrapper name='datasets/training-set/GTSRB/Training/00009/GT-00009.csv' mode='r' encoding='UTF-8'>\n",
            "<_io.TextIOWrapper name='datasets/training-set/GTSRB/Training/00010/GT-00010.csv' mode='r' encoding='UTF-8'>\n",
            "<_io.TextIOWrapper name='datasets/training-set/GTSRB/Training/00011/GT-00011.csv' mode='r' encoding='UTF-8'>\n",
            "<_io.TextIOWrapper name='datasets/training-set/GTSRB/Training/00012/GT-00012.csv' mode='r' encoding='UTF-8'>\n",
            "<_io.TextIOWrapper name='datasets/training-set/GTSRB/Training/00013/GT-00013.csv' mode='r' encoding='UTF-8'>\n",
            "<_io.TextIOWrapper name='datasets/training-set/GTSRB/Training/00014/GT-00014.csv' mode='r' encoding='UTF-8'>\n",
            "<_io.TextIOWrapper name='datasets/training-set/GTSRB/Training/00015/GT-00015.csv' mode='r' encoding='UTF-8'>\n",
            "<_io.TextIOWrapper name='datasets/training-set/GTSRB/Training/00016/GT-00016.csv' mode='r' encoding='UTF-8'>\n",
            "<_io.TextIOWrapper name='datasets/training-set/GTSRB/Training/00017/GT-00017.csv' mode='r' encoding='UTF-8'>\n",
            "<_io.TextIOWrapper name='datasets/training-set/GTSRB/Training/00018/GT-00018.csv' mode='r' encoding='UTF-8'>\n",
            "<_io.TextIOWrapper name='datasets/training-set/GTSRB/Training/00019/GT-00019.csv' mode='r' encoding='UTF-8'>\n",
            "<_io.TextIOWrapper name='datasets/training-set/GTSRB/Training/00020/GT-00020.csv' mode='r' encoding='UTF-8'>\n",
            "<_io.TextIOWrapper name='datasets/training-set/GTSRB/Training/00021/GT-00021.csv' mode='r' encoding='UTF-8'>\n",
            "<_io.TextIOWrapper name='datasets/training-set/GTSRB/Training/00022/GT-00022.csv' mode='r' encoding='UTF-8'>\n",
            "<_io.TextIOWrapper name='datasets/training-set/GTSRB/Training/00023/GT-00023.csv' mode='r' encoding='UTF-8'>\n",
            "<_io.TextIOWrapper name='datasets/training-set/GTSRB/Training/00024/GT-00024.csv' mode='r' encoding='UTF-8'>\n",
            "<_io.TextIOWrapper name='datasets/training-set/GTSRB/Training/00025/GT-00025.csv' mode='r' encoding='UTF-8'>\n",
            "<_io.TextIOWrapper name='datasets/training-set/GTSRB/Training/00026/GT-00026.csv' mode='r' encoding='UTF-8'>\n",
            "<_io.TextIOWrapper name='datasets/training-set/GTSRB/Training/00027/GT-00027.csv' mode='r' encoding='UTF-8'>\n",
            "<_io.TextIOWrapper name='datasets/training-set/GTSRB/Training/00028/GT-00028.csv' mode='r' encoding='UTF-8'>\n",
            "<_io.TextIOWrapper name='datasets/training-set/GTSRB/Training/00029/GT-00029.csv' mode='r' encoding='UTF-8'>\n",
            "<_io.TextIOWrapper name='datasets/training-set/GTSRB/Training/00030/GT-00030.csv' mode='r' encoding='UTF-8'>\n",
            "<_io.TextIOWrapper name='datasets/training-set/GTSRB/Training/00031/GT-00031.csv' mode='r' encoding='UTF-8'>\n",
            "<_io.TextIOWrapper name='datasets/training-set/GTSRB/Training/00032/GT-00032.csv' mode='r' encoding='UTF-8'>\n",
            "<_io.TextIOWrapper name='datasets/training-set/GTSRB/Training/00033/GT-00033.csv' mode='r' encoding='UTF-8'>\n",
            "<_io.TextIOWrapper name='datasets/training-set/GTSRB/Training/00034/GT-00034.csv' mode='r' encoding='UTF-8'>\n",
            "<_io.TextIOWrapper name='datasets/training-set/GTSRB/Training/00035/GT-00035.csv' mode='r' encoding='UTF-8'>\n",
            "<_io.TextIOWrapper name='datasets/training-set/GTSRB/Training/00036/GT-00036.csv' mode='r' encoding='UTF-8'>\n",
            "<_io.TextIOWrapper name='datasets/training-set/GTSRB/Training/00037/GT-00037.csv' mode='r' encoding='UTF-8'>\n",
            "<_io.TextIOWrapper name='datasets/training-set/GTSRB/Training/00038/GT-00038.csv' mode='r' encoding='UTF-8'>\n",
            "<_io.TextIOWrapper name='datasets/training-set/GTSRB/Training/00039/GT-00039.csv' mode='r' encoding='UTF-8'>\n",
            "<_io.TextIOWrapper name='datasets/training-set/GTSRB/Training/00040/GT-00040.csv' mode='r' encoding='UTF-8'>\n",
            "<_io.TextIOWrapper name='datasets/training-set/GTSRB/Training/00041/GT-00041.csv' mode='r' encoding='UTF-8'>\n",
            "<_io.TextIOWrapper name='datasets/training-set/GTSRB/Training/00042/GT-00042.csv' mode='r' encoding='UTF-8'>\n",
            "[<_io.TextIOWrapper name='datasets/training-set/GTSRB/Training/00000/GT-00000.csv' mode='r' encoding='UTF-8'>, <_io.TextIOWrapper name='datasets/training-set/GTSRB/Training/00001/GT-00001.csv' mode='r' encoding='UTF-8'>, <_io.TextIOWrapper name='datasets/training-set/GTSRB/Training/00002/GT-00002.csv' mode='r' encoding='UTF-8'>, <_io.TextIOWrapper name='datasets/training-set/GTSRB/Training/00003/GT-00003.csv' mode='r' encoding='UTF-8'>, <_io.TextIOWrapper name='datasets/training-set/GTSRB/Training/00004/GT-00004.csv' mode='r' encoding='UTF-8'>, <_io.TextIOWrapper name='datasets/training-set/GTSRB/Training/00005/GT-00005.csv' mode='r' encoding='UTF-8'>, <_io.TextIOWrapper name='datasets/training-set/GTSRB/Training/00006/GT-00006.csv' mode='r' encoding='UTF-8'>, <_io.TextIOWrapper name='datasets/training-set/GTSRB/Training/00007/GT-00007.csv' mode='r' encoding='UTF-8'>, <_io.TextIOWrapper name='datasets/training-set/GTSRB/Training/00008/GT-00008.csv' mode='r' encoding='UTF-8'>, <_io.TextIOWrapper name='datasets/training-set/GTSRB/Training/00009/GT-00009.csv' mode='r' encoding='UTF-8'>, <_io.TextIOWrapper name='datasets/training-set/GTSRB/Training/00010/GT-00010.csv' mode='r' encoding='UTF-8'>, <_io.TextIOWrapper name='datasets/training-set/GTSRB/Training/00011/GT-00011.csv' mode='r' encoding='UTF-8'>, <_io.TextIOWrapper name='datasets/training-set/GTSRB/Training/00012/GT-00012.csv' mode='r' encoding='UTF-8'>, <_io.TextIOWrapper name='datasets/training-set/GTSRB/Training/00013/GT-00013.csv' mode='r' encoding='UTF-8'>, <_io.TextIOWrapper name='datasets/training-set/GTSRB/Training/00014/GT-00014.csv' mode='r' encoding='UTF-8'>, <_io.TextIOWrapper name='datasets/training-set/GTSRB/Training/00015/GT-00015.csv' mode='r' encoding='UTF-8'>, <_io.TextIOWrapper name='datasets/training-set/GTSRB/Training/00016/GT-00016.csv' mode='r' encoding='UTF-8'>, <_io.TextIOWrapper name='datasets/training-set/GTSRB/Training/00017/GT-00017.csv' mode='r' encoding='UTF-8'>, <_io.TextIOWrapper name='datasets/training-set/GTSRB/Training/00018/GT-00018.csv' mode='r' encoding='UTF-8'>, <_io.TextIOWrapper name='datasets/training-set/GTSRB/Training/00019/GT-00019.csv' mode='r' encoding='UTF-8'>, <_io.TextIOWrapper name='datasets/training-set/GTSRB/Training/00020/GT-00020.csv' mode='r' encoding='UTF-8'>, <_io.TextIOWrapper name='datasets/training-set/GTSRB/Training/00021/GT-00021.csv' mode='r' encoding='UTF-8'>, <_io.TextIOWrapper name='datasets/training-set/GTSRB/Training/00022/GT-00022.csv' mode='r' encoding='UTF-8'>, <_io.TextIOWrapper name='datasets/training-set/GTSRB/Training/00023/GT-00023.csv' mode='r' encoding='UTF-8'>, <_io.TextIOWrapper name='datasets/training-set/GTSRB/Training/00024/GT-00024.csv' mode='r' encoding='UTF-8'>, <_io.TextIOWrapper name='datasets/training-set/GTSRB/Training/00025/GT-00025.csv' mode='r' encoding='UTF-8'>, <_io.TextIOWrapper name='datasets/training-set/GTSRB/Training/00026/GT-00026.csv' mode='r' encoding='UTF-8'>, <_io.TextIOWrapper name='datasets/training-set/GTSRB/Training/00027/GT-00027.csv' mode='r' encoding='UTF-8'>, <_io.TextIOWrapper name='datasets/training-set/GTSRB/Training/00028/GT-00028.csv' mode='r' encoding='UTF-8'>, <_io.TextIOWrapper name='datasets/training-set/GTSRB/Training/00029/GT-00029.csv' mode='r' encoding='UTF-8'>, <_io.TextIOWrapper name='datasets/training-set/GTSRB/Training/00030/GT-00030.csv' mode='r' encoding='UTF-8'>, <_io.TextIOWrapper name='datasets/training-set/GTSRB/Training/00031/GT-00031.csv' mode='r' encoding='UTF-8'>, <_io.TextIOWrapper name='datasets/training-set/GTSRB/Training/00032/GT-00032.csv' mode='r' encoding='UTF-8'>, <_io.TextIOWrapper name='datasets/training-set/GTSRB/Training/00033/GT-00033.csv' mode='r' encoding='UTF-8'>, <_io.TextIOWrapper name='datasets/training-set/GTSRB/Training/00034/GT-00034.csv' mode='r' encoding='UTF-8'>, <_io.TextIOWrapper name='datasets/training-set/GTSRB/Training/00035/GT-00035.csv' mode='r' encoding='UTF-8'>, <_io.TextIOWrapper name='datasets/training-set/GTSRB/Training/00036/GT-00036.csv' mode='r' encoding='UTF-8'>, <_io.TextIOWrapper name='datasets/training-set/GTSRB/Training/00037/GT-00037.csv' mode='r' encoding='UTF-8'>, <_io.TextIOWrapper name='datasets/training-set/GTSRB/Training/00038/GT-00038.csv' mode='r' encoding='UTF-8'>, <_io.TextIOWrapper name='datasets/training-set/GTSRB/Training/00039/GT-00039.csv' mode='r' encoding='UTF-8'>, <_io.TextIOWrapper name='datasets/training-set/GTSRB/Training/00040/GT-00040.csv' mode='r' encoding='UTF-8'>, <_io.TextIOWrapper name='datasets/training-set/GTSRB/Training/00041/GT-00041.csv' mode='r' encoding='UTF-8'>, <_io.TextIOWrapper name='datasets/training-set/GTSRB/Training/00042/GT-00042.csv' mode='r' encoding='UTF-8'>]\n"
          ],
          "name": "stdout"
        }
      ]
    },
    {
      "cell_type": "code",
      "metadata": {
        "id": "vJTzGtr-rKYo",
        "colab_type": "code",
        "outputId": "2dea71b8-bcc1-4b90-f0fb-76703b7bea7a",
        "colab": {
          "base_uri": "https://localhost:8080/",
          "height": 231
        }
      },
      "source": [
        "# plt.imshow(trainImages[15])\n",
        "plt.imshow(Val_set[15])\n",
        "print(trainLabels[15])\n",
        "# print(train_set[15])\n",
        "print(\"Number of Training Images: \", len(trainImages))\n",
        "print(\"Number of Training Labels: \", len(trainImages))"
      ],
      "execution_count": 0,
      "outputs": [
        {
          "output_type": "error",
          "ename": "IndexError",
          "evalue": "ignored",
          "traceback": [
            "\u001b[0;31m---------------------------------------------------------------------------\u001b[0m",
            "\u001b[0;31mIndexError\u001b[0m                                Traceback (most recent call last)",
            "\u001b[0;32m<ipython-input-16-6763bf740513>\u001b[0m in \u001b[0;36m<module>\u001b[0;34m()\u001b[0m\n\u001b[0;32m----> 1\u001b[0;31m \u001b[0mplt\u001b[0m\u001b[0;34m.\u001b[0m\u001b[0mimshow\u001b[0m\u001b[0;34m(\u001b[0m\u001b[0mVal_set\u001b[0m\u001b[0;34m[\u001b[0m\u001b[0;36m15\u001b[0m\u001b[0;34m]\u001b[0m\u001b[0;34m)\u001b[0m\u001b[0;34m\u001b[0m\u001b[0;34m\u001b[0m\u001b[0m\n\u001b[0m\u001b[1;32m      2\u001b[0m \u001b[0mprint\u001b[0m\u001b[0;34m(\u001b[0m\u001b[0mtrainLabels\u001b[0m\u001b[0;34m[\u001b[0m\u001b[0;36m15\u001b[0m\u001b[0;34m]\u001b[0m\u001b[0;34m)\u001b[0m\u001b[0;34m\u001b[0m\u001b[0;34m\u001b[0m\u001b[0m\n\u001b[1;32m      3\u001b[0m \u001b[0;31m# print(train_set[15])\u001b[0m\u001b[0;34m\u001b[0m\u001b[0;34m\u001b[0m\u001b[0;34m\u001b[0m\u001b[0m\n\u001b[1;32m      4\u001b[0m \u001b[0mprint\u001b[0m\u001b[0;34m(\u001b[0m\u001b[0;34m\"Number of Training Images: \"\u001b[0m\u001b[0;34m,\u001b[0m \u001b[0mlen\u001b[0m\u001b[0;34m(\u001b[0m\u001b[0mtrainImages\u001b[0m\u001b[0;34m)\u001b[0m\u001b[0;34m)\u001b[0m\u001b[0;34m\u001b[0m\u001b[0;34m\u001b[0m\u001b[0m\n\u001b[1;32m      5\u001b[0m \u001b[0mprint\u001b[0m\u001b[0;34m(\u001b[0m\u001b[0;34m\"Number of Training Labels: \"\u001b[0m\u001b[0;34m,\u001b[0m \u001b[0mlen\u001b[0m\u001b[0;34m(\u001b[0m\u001b[0mtrainImages\u001b[0m\u001b[0;34m)\u001b[0m\u001b[0;34m)\u001b[0m\u001b[0;34m\u001b[0m\u001b[0;34m\u001b[0m\u001b[0m\n",
            "\u001b[0;31mIndexError\u001b[0m: list index out of range"
          ]
        }
      ]
    }
  ]
}